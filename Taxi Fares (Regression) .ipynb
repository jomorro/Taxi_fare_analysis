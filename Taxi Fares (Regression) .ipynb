{
 "cells": [
  {
   "cell_type": "code",
   "execution_count": 2,
   "id": "9721ce5e",
   "metadata": {},
   "outputs": [
    {
     "data": {
      "text/html": [
       "<div>\n",
       "<style scoped>\n",
       "    .dataframe tbody tr th:only-of-type {\n",
       "        vertical-align: middle;\n",
       "    }\n",
       "\n",
       "    .dataframe tbody tr th {\n",
       "        vertical-align: top;\n",
       "    }\n",
       "\n",
       "    .dataframe thead th {\n",
       "        text-align: right;\n",
       "    }\n",
       "</style>\n",
       "<table border=\"1\" class=\"dataframe\">\n",
       "  <thead>\n",
       "    <tr style=\"text-align: right;\">\n",
       "      <th></th>\n",
       "      <th>key</th>\n",
       "      <th>fare_amount</th>\n",
       "      <th>pickup_datetime</th>\n",
       "      <th>pickup_longitude</th>\n",
       "      <th>pickup_latitude</th>\n",
       "      <th>dropoff_longitude</th>\n",
       "      <th>dropoff_latitude</th>\n",
       "      <th>passenger_count</th>\n",
       "    </tr>\n",
       "  </thead>\n",
       "  <tbody>\n",
       "    <tr>\n",
       "      <th>0</th>\n",
       "      <td>2014-06-15 17:11:00.000000107</td>\n",
       "      <td>7.0</td>\n",
       "      <td>2014-06-15 17:11:00 UTC</td>\n",
       "      <td>-73.995420</td>\n",
       "      <td>40.759662</td>\n",
       "      <td>-73.987607</td>\n",
       "      <td>40.751247</td>\n",
       "      <td>1</td>\n",
       "    </tr>\n",
       "    <tr>\n",
       "      <th>1</th>\n",
       "      <td>2011-03-14 22:43:00.00000095</td>\n",
       "      <td>4.9</td>\n",
       "      <td>2011-03-14 22:43:00 UTC</td>\n",
       "      <td>-73.993552</td>\n",
       "      <td>40.731110</td>\n",
       "      <td>-73.998497</td>\n",
       "      <td>40.737200</td>\n",
       "      <td>5</td>\n",
       "    </tr>\n",
       "    <tr>\n",
       "      <th>2</th>\n",
       "      <td>2011-02-14 15:14:00.00000067</td>\n",
       "      <td>6.1</td>\n",
       "      <td>2011-02-14 15:14:00 UTC</td>\n",
       "      <td>-73.972380</td>\n",
       "      <td>40.749527</td>\n",
       "      <td>-73.990638</td>\n",
       "      <td>40.745328</td>\n",
       "      <td>1</td>\n",
       "    </tr>\n",
       "    <tr>\n",
       "      <th>3</th>\n",
       "      <td>2009-10-29 11:29:00.00000040</td>\n",
       "      <td>6.9</td>\n",
       "      <td>2009-10-29 11:29:00 UTC</td>\n",
       "      <td>-73.973703</td>\n",
       "      <td>40.763542</td>\n",
       "      <td>-73.984253</td>\n",
       "      <td>40.758603</td>\n",
       "      <td>5</td>\n",
       "    </tr>\n",
       "    <tr>\n",
       "      <th>4</th>\n",
       "      <td>2011-07-02 10:38:00.00000028</td>\n",
       "      <td>10.5</td>\n",
       "      <td>2011-07-02 10:38:00 UTC</td>\n",
       "      <td>-73.921262</td>\n",
       "      <td>40.743615</td>\n",
       "      <td>-73.967383</td>\n",
       "      <td>40.765162</td>\n",
       "      <td>1</td>\n",
       "    </tr>\n",
       "  </tbody>\n",
       "</table>\n",
       "</div>"
      ],
      "text/plain": [
       "                             key  fare_amount          pickup_datetime  \\\n",
       "0  2014-06-15 17:11:00.000000107          7.0  2014-06-15 17:11:00 UTC   \n",
       "1   2011-03-14 22:43:00.00000095          4.9  2011-03-14 22:43:00 UTC   \n",
       "2   2011-02-14 15:14:00.00000067          6.1  2011-02-14 15:14:00 UTC   \n",
       "3   2009-10-29 11:29:00.00000040          6.9  2009-10-29 11:29:00 UTC   \n",
       "4   2011-07-02 10:38:00.00000028         10.5  2011-07-02 10:38:00 UTC   \n",
       "\n",
       "   pickup_longitude  pickup_latitude  dropoff_longitude  dropoff_latitude  \\\n",
       "0        -73.995420        40.759662         -73.987607         40.751247   \n",
       "1        -73.993552        40.731110         -73.998497         40.737200   \n",
       "2        -73.972380        40.749527         -73.990638         40.745328   \n",
       "3        -73.973703        40.763542         -73.984253         40.758603   \n",
       "4        -73.921262        40.743615         -73.967383         40.765162   \n",
       "\n",
       "   passenger_count  \n",
       "0                1  \n",
       "1                5  \n",
       "2                1  \n",
       "3                5  \n",
       "4                1  "
      ]
     },
     "execution_count": 2,
     "metadata": {},
     "output_type": "execute_result"
    }
   ],
   "source": [
    "import pandas as pd\n",
    "import matplotlib.pyplot as plt\n",
    "%matplotlib inline \n",
    "import seaborn as sns\n",
    "sns.set()\n",
    "\n",
    "df = pd.read_csv('../python_fare_prediction/taxi-fares.csv')\n",
    "df.head()"
   ]
  },
  {
   "cell_type": "code",
   "execution_count": 3,
   "id": "e42f0cf5",
   "metadata": {},
   "outputs": [
    {
     "data": {
      "text/plain": [
       "(55368, 8)"
      ]
     },
     "execution_count": 3,
     "metadata": {},
     "output_type": "execute_result"
    }
   ],
   "source": [
    "df.shape #determing how many rows and columns are in the dataset"
   ]
  },
  {
   "cell_type": "code",
   "execution_count": 4,
   "id": "160d4373",
   "metadata": {},
   "outputs": [
    {
     "name": "stdout",
     "output_type": "stream",
     "text": [
      "<class 'pandas.core.frame.DataFrame'>\n",
      "RangeIndex: 55368 entries, 0 to 55367\n",
      "Data columns (total 8 columns):\n",
      " #   Column             Non-Null Count  Dtype  \n",
      "---  ------             --------------  -----  \n",
      " 0   key                55368 non-null  object \n",
      " 1   fare_amount        55368 non-null  float64\n",
      " 2   pickup_datetime    55368 non-null  object \n",
      " 3   pickup_longitude   55368 non-null  float64\n",
      " 4   pickup_latitude    55368 non-null  float64\n",
      " 5   dropoff_longitude  55368 non-null  float64\n",
      " 6   dropoff_latitude   55368 non-null  float64\n",
      " 7   passenger_count    55368 non-null  int64  \n",
      "dtypes: float64(5), int64(1), object(2)\n",
      "memory usage: 3.4+ MB\n"
     ]
    }
   ],
   "source": [
    "df.info() #checking for missing data"
   ]
  },
  {
   "cell_type": "code",
   "execution_count": 6,
   "id": "d25564ae",
   "metadata": {},
   "outputs": [
    {
     "data": {
      "text/plain": [
       "<AxesSubplot:xlabel='passenger_count', ylabel='count'>"
      ]
     },
     "execution_count": 6,
     "metadata": {},
     "output_type": "execute_result"
    },
    {
     "data": {
      "image/png": "[encoded data removed]",
      "text/plain": [
       "<Figure size 640x480 with 1 Axes>"
      ]
     },
     "metadata": {},
     "output_type": "display_data"
    }
   ],
   "source": [
    "#maing histogram to show how many rows contain one, two or however many passengers were in the car\n",
    "sns.countplot(x=df['passenger_count'])"
   ]
  },
  {
   "cell_type": "code",
   "execution_count": 7,
   "id": "4bec598d",
   "metadata": {},
   "outputs": [
    {
     "data": {
      "text/html": [
       "<div>\n",
       "<style scoped>\n",
       "    .dataframe tbody tr th:only-of-type {\n",
       "        vertical-align: middle;\n",
       "    }\n",
       "\n",
       "    .dataframe tbody tr th {\n",
       "        vertical-align: top;\n",
       "    }\n",
       "\n",
       "    .dataframe thead th {\n",
       "        text-align: right;\n",
       "    }\n",
       "</style>\n",
       "<table border=\"1\" class=\"dataframe\">\n",
       "  <thead>\n",
       "    <tr style=\"text-align: right;\">\n",
       "      <th></th>\n",
       "      <th>fare_amount</th>\n",
       "      <th>pickup_datetime</th>\n",
       "      <th>pickup_longitude</th>\n",
       "      <th>pickup_latitude</th>\n",
       "      <th>dropoff_longitude</th>\n",
       "      <th>dropoff_latitude</th>\n",
       "    </tr>\n",
       "  </thead>\n",
       "  <tbody>\n",
       "    <tr>\n",
       "      <th>0</th>\n",
       "      <td>7.0</td>\n",
       "      <td>2014-06-15 17:11:00 UTC</td>\n",
       "      <td>-73.995420</td>\n",
       "      <td>40.759662</td>\n",
       "      <td>-73.987607</td>\n",
       "      <td>40.751247</td>\n",
       "    </tr>\n",
       "    <tr>\n",
       "      <th>2</th>\n",
       "      <td>6.1</td>\n",
       "      <td>2011-02-14 15:14:00 UTC</td>\n",
       "      <td>-73.972380</td>\n",
       "      <td>40.749527</td>\n",
       "      <td>-73.990638</td>\n",
       "      <td>40.745328</td>\n",
       "    </tr>\n",
       "    <tr>\n",
       "      <th>4</th>\n",
       "      <td>10.5</td>\n",
       "      <td>2011-07-02 10:38:00 UTC</td>\n",
       "      <td>-73.921262</td>\n",
       "      <td>40.743615</td>\n",
       "      <td>-73.967383</td>\n",
       "      <td>40.765162</td>\n",
       "    </tr>\n",
       "    <tr>\n",
       "      <th>5</th>\n",
       "      <td>15.3</td>\n",
       "      <td>2011-12-09 20:03:00 UTC</td>\n",
       "      <td>-73.973500</td>\n",
       "      <td>40.792610</td>\n",
       "      <td>-73.936035</td>\n",
       "      <td>40.856548</td>\n",
       "    </tr>\n",
       "    <tr>\n",
       "      <th>8</th>\n",
       "      <td>7.7</td>\n",
       "      <td>2011-04-02 01:05:15 UTC</td>\n",
       "      <td>-73.979564</td>\n",
       "      <td>40.735405</td>\n",
       "      <td>-73.955686</td>\n",
       "      <td>40.768065</td>\n",
       "    </tr>\n",
       "  </tbody>\n",
       "</table>\n",
       "</div>"
      ],
      "text/plain": [
       "   fare_amount          pickup_datetime  pickup_longitude  pickup_latitude  \\\n",
       "0          7.0  2014-06-15 17:11:00 UTC        -73.995420        40.759662   \n",
       "2          6.1  2011-02-14 15:14:00 UTC        -73.972380        40.749527   \n",
       "4         10.5  2011-07-02 10:38:00 UTC        -73.921262        40.743615   \n",
       "5         15.3  2011-12-09 20:03:00 UTC        -73.973500        40.792610   \n",
       "8          7.7  2011-04-02 01:05:15 UTC        -73.979564        40.735405   \n",
       "\n",
       "   dropoff_longitude  dropoff_latitude  \n",
       "0         -73.987607         40.751247  \n",
       "2         -73.990638         40.745328  \n",
       "4         -73.967383         40.765162  \n",
       "5         -73.936035         40.856548  \n",
       "8         -73.955686         40.768065  "
      ]
     },
     "execution_count": 7,
     "metadata": {},
     "output_type": "execute_result"
    }
   ],
   "source": [
    "#if we want to focus on the rides with one passenger, because most rides contain just one passenger we remove rows where the taxi had more than one passenger\n",
    "df = df[df['passenger_count'] == 1]\n",
    "df = df.drop(['key', 'passenger_count'], axis=1)\n",
    "df.head()"
   ]
  },
  {
   "cell_type": "code",
   "execution_count": 8,
   "id": "e9c00b53",
   "metadata": {},
   "outputs": [
    {
     "data": {
      "text/plain": [
       "(38233, 6)"
      ]
     },
     "execution_count": 8,
     "metadata": {},
     "output_type": "execute_result"
    }
   ],
   "source": [
    "df.shape"
   ]
  },
  {
   "cell_type": "code",
   "execution_count": 9,
   "id": "28e3e69c",
   "metadata": {},
   "outputs": [
    {
     "data": {
      "text/plain": [
       "fare_amount          1.000000\n",
       "dropoff_longitude    0.020438\n",
       "pickup_longitude     0.015742\n",
       "pickup_latitude     -0.015915\n",
       "dropoff_latitude    -0.021711\n",
       "Name: fare_amount, dtype: float64"
      ]
     },
     "execution_count": 9,
     "metadata": {},
     "output_type": "execute_result"
    }
   ],
   "source": [
    "#figuring out how much input variables such as latitude and longitude have on the values in the \"fare_amount\" column\n",
    "#correlation \n",
    "corr_matrix = df.corr()\n",
    "corr_matrix['fare_amount'].sort_values(ascending=False)"
   ]
  },
  {
   "cell_type": "code",
   "execution_count": 10,
   "id": "7c8d9082",
   "metadata": {},
   "outputs": [
    {
     "data": {
      "text/html": [
       "<div>\n",
       "<style scoped>\n",
       "    .dataframe tbody tr th:only-of-type {\n",
       "        vertical-align: middle;\n",
       "    }\n",
       "\n",
       "    .dataframe tbody tr th {\n",
       "        vertical-align: top;\n",
       "    }\n",
       "\n",
       "    .dataframe thead th {\n",
       "        text-align: right;\n",
       "    }\n",
       "</style>\n",
       "<table border=\"1\" class=\"dataframe\">\n",
       "  <thead>\n",
       "    <tr style=\"text-align: right;\">\n",
       "      <th></th>\n",
       "      <th>fare_amount</th>\n",
       "      <th>pickup_datetime</th>\n",
       "      <th>pickup_longitude</th>\n",
       "      <th>pickup_latitude</th>\n",
       "      <th>dropoff_longitude</th>\n",
       "      <th>dropoff_latitude</th>\n",
       "      <th>day_of_week</th>\n",
       "      <th>pickup_time</th>\n",
       "      <th>distance</th>\n",
       "    </tr>\n",
       "  </thead>\n",
       "  <tbody>\n",
       "    <tr>\n",
       "      <th>0</th>\n",
       "      <td>7.0</td>\n",
       "      <td>2014-06-15 17:11:00 UTC</td>\n",
       "      <td>-73.995420</td>\n",
       "      <td>40.759662</td>\n",
       "      <td>-73.987607</td>\n",
       "      <td>40.751247</td>\n",
       "      <td>6.0</td>\n",
       "      <td>17.0</td>\n",
       "      <td>0.720497</td>\n",
       "    </tr>\n",
       "    <tr>\n",
       "      <th>2</th>\n",
       "      <td>6.1</td>\n",
       "      <td>2011-02-14 15:14:00 UTC</td>\n",
       "      <td>-73.972380</td>\n",
       "      <td>40.749527</td>\n",
       "      <td>-73.990638</td>\n",
       "      <td>40.745328</td>\n",
       "      <td>0.0</td>\n",
       "      <td>15.0</td>\n",
       "      <td>1.038136</td>\n",
       "    </tr>\n",
       "    <tr>\n",
       "      <th>4</th>\n",
       "      <td>10.5</td>\n",
       "      <td>2011-07-02 10:38:00 UTC</td>\n",
       "      <td>-73.921262</td>\n",
       "      <td>40.743615</td>\n",
       "      <td>-73.967383</td>\n",
       "      <td>40.765162</td>\n",
       "      <td>5.0</td>\n",
       "      <td>10.0</td>\n",
       "      <td>2.924341</td>\n",
       "    </tr>\n",
       "    <tr>\n",
       "      <th>5</th>\n",
       "      <td>15.3</td>\n",
       "      <td>2011-12-09 20:03:00 UTC</td>\n",
       "      <td>-73.973500</td>\n",
       "      <td>40.792610</td>\n",
       "      <td>-73.936035</td>\n",
       "      <td>40.856548</td>\n",
       "      <td>4.0</td>\n",
       "      <td>20.0</td>\n",
       "      <td>4.862893</td>\n",
       "    </tr>\n",
       "    <tr>\n",
       "      <th>8</th>\n",
       "      <td>7.7</td>\n",
       "      <td>2011-04-02 01:05:15 UTC</td>\n",
       "      <td>-73.979564</td>\n",
       "      <td>40.735405</td>\n",
       "      <td>-73.955686</td>\n",
       "      <td>40.768065</td>\n",
       "      <td>5.0</td>\n",
       "      <td>1.0</td>\n",
       "      <td>2.603493</td>\n",
       "    </tr>\n",
       "  </tbody>\n",
       "</table>\n",
       "</div>"
      ],
      "text/plain": [
       "   fare_amount          pickup_datetime  pickup_longitude  pickup_latitude  \\\n",
       "0          7.0  2014-06-15 17:11:00 UTC        -73.995420        40.759662   \n",
       "2          6.1  2011-02-14 15:14:00 UTC        -73.972380        40.749527   \n",
       "4         10.5  2011-07-02 10:38:00 UTC        -73.921262        40.743615   \n",
       "5         15.3  2011-12-09 20:03:00 UTC        -73.973500        40.792610   \n",
       "8          7.7  2011-04-02 01:05:15 UTC        -73.979564        40.735405   \n",
       "\n",
       "   dropoff_longitude  dropoff_latitude  day_of_week  pickup_time  distance  \n",
       "0         -73.987607         40.751247          6.0         17.0  0.720497  \n",
       "2         -73.990638         40.745328          0.0         15.0  1.038136  \n",
       "4         -73.967383         40.765162          5.0         10.0  2.924341  \n",
       "5         -73.936035         40.856548          4.0         20.0  4.862893  \n",
       "8         -73.955686         40.768065          5.0          1.0  2.603493  "
      ]
     },
     "execution_count": 10,
     "metadata": {},
     "output_type": "execute_result"
    }
   ],
   "source": [
    "#the results of the correlation show that the pickup and dropoff distance dont have much to do with the fare amount but it should be.\n",
    "#we are creating new columns with data from the orginal columns, only this time the day of the week starts at index 0 = Monday, the hours are between 0-23 and the distance covered.\n",
    "import datetime\n",
    "from math import sqrt \n",
    "\n",
    "for i, row in df.iterrows():\n",
    "    dt = datetime.datetime.strptime(row['pickup_datetime'], '%Y-%m-%d %H:%M:%S UTC')\n",
    "    df.at[i, 'day_of_week'] = dt.weekday()\n",
    "    df.at[i, 'pickup_time'] = dt.hour\n",
    "    x = (row['dropoff_longitude'] - row['pickup_longitude']) * 54.6 # 1 degree == 54.6 miles\n",
    "    y = (row['dropoff_latitude'] - row['pickup_latitude']) * 69.0   # 1 degree == 69 miles\n",
    "    distance = sqrt(x**2 + y**2)\n",
    "    df.at[i, 'distance'] = distance\n",
    "    \n",
    "df.head()"
   ]
  },
  {
   "cell_type": "code",
   "execution_count": 12,
   "id": "4f606eec",
   "metadata": {},
   "outputs": [
    {
     "data": {
      "text/html": [
       "<div>\n",
       "<style scoped>\n",
       "    .dataframe tbody tr th:only-of-type {\n",
       "        vertical-align: middle;\n",
       "    }\n",
       "\n",
       "    .dataframe tbody tr th {\n",
       "        vertical-align: top;\n",
       "    }\n",
       "\n",
       "    .dataframe thead th {\n",
       "        text-align: right;\n",
       "    }\n",
       "</style>\n",
       "<table border=\"1\" class=\"dataframe\">\n",
       "  <thead>\n",
       "    <tr style=\"text-align: right;\">\n",
       "      <th></th>\n",
       "      <th>fare_amount</th>\n",
       "      <th>day_of_week</th>\n",
       "      <th>pickup_time</th>\n",
       "      <th>distance</th>\n",
       "    </tr>\n",
       "  </thead>\n",
       "  <tbody>\n",
       "    <tr>\n",
       "      <th>0</th>\n",
       "      <td>7.0</td>\n",
       "      <td>6.0</td>\n",
       "      <td>17.0</td>\n",
       "      <td>0.720497</td>\n",
       "    </tr>\n",
       "    <tr>\n",
       "      <th>2</th>\n",
       "      <td>6.1</td>\n",
       "      <td>0.0</td>\n",
       "      <td>15.0</td>\n",
       "      <td>1.038136</td>\n",
       "    </tr>\n",
       "    <tr>\n",
       "      <th>4</th>\n",
       "      <td>10.5</td>\n",
       "      <td>5.0</td>\n",
       "      <td>10.0</td>\n",
       "      <td>2.924341</td>\n",
       "    </tr>\n",
       "    <tr>\n",
       "      <th>5</th>\n",
       "      <td>15.3</td>\n",
       "      <td>4.0</td>\n",
       "      <td>20.0</td>\n",
       "      <td>4.862893</td>\n",
       "    </tr>\n",
       "    <tr>\n",
       "      <th>8</th>\n",
       "      <td>7.7</td>\n",
       "      <td>5.0</td>\n",
       "      <td>1.0</td>\n",
       "      <td>2.603493</td>\n",
       "    </tr>\n",
       "  </tbody>\n",
       "</table>\n",
       "</div>"
      ],
      "text/plain": [
       "   fare_amount  day_of_week  pickup_time  distance\n",
       "0          7.0          6.0         17.0  0.720497\n",
       "2          6.1          0.0         15.0  1.038136\n",
       "4         10.5          5.0         10.0  2.924341\n",
       "5         15.3          4.0         20.0  4.862893\n",
       "8          7.7          5.0          1.0  2.603493"
      ]
     },
     "execution_count": 12,
     "metadata": {},
     "output_type": "execute_result"
    }
   ],
   "source": [
    "#now we will drop columns that are not needed to provide a better taxi fare prediction\n",
    "df.drop(columns=['pickup_datetime', 'pickup_longitude', 'pickup_latitude', 'dropoff_longitude', 'dropoff_latitude'], inplace=True)\n",
    "df.head()"
   ]
  },
  {
   "cell_type": "code",
   "execution_count": 13,
   "id": "9bba23ca",
   "metadata": {},
   "outputs": [
    {
     "data": {
      "text/plain": [
       "fare_amount    1.000000\n",
       "distance       0.045873\n",
       "day_of_week    0.009196\n",
       "pickup_time   -0.019722\n",
       "Name: fare_amount, dtype: float64"
      ]
     },
     "execution_count": 13,
     "metadata": {},
     "output_type": "execute_result"
    }
   ],
   "source": [
    "#here we try to see the correlation to the fare price\n",
    "corr_matrix = df.corr()\n",
    "corr_matrix[\"fare_amount\"].sort_values(ascending=False)"
   ]
  },
  {
   "cell_type": "code",
   "execution_count": 14,
   "id": "d8a0eaa1",
   "metadata": {},
   "outputs": [
    {
     "data": {
      "text/html": [
       "<div>\n",
       "<style scoped>\n",
       "    .dataframe tbody tr th:only-of-type {\n",
       "        vertical-align: middle;\n",
       "    }\n",
       "\n",
       "    .dataframe tbody tr th {\n",
       "        vertical-align: top;\n",
       "    }\n",
       "\n",
       "    .dataframe thead th {\n",
       "        text-align: right;\n",
       "    }\n",
       "</style>\n",
       "<table border=\"1\" class=\"dataframe\">\n",
       "  <thead>\n",
       "    <tr style=\"text-align: right;\">\n",
       "      <th></th>\n",
       "      <th>fare_amount</th>\n",
       "      <th>day_of_week</th>\n",
       "      <th>pickup_time</th>\n",
       "      <th>distance</th>\n",
       "    </tr>\n",
       "  </thead>\n",
       "  <tbody>\n",
       "    <tr>\n",
       "      <th>count</th>\n",
       "      <td>38233.000000</td>\n",
       "      <td>38233.000000</td>\n",
       "      <td>38233.000000</td>\n",
       "      <td>38233.000000</td>\n",
       "    </tr>\n",
       "    <tr>\n",
       "      <th>mean</th>\n",
       "      <td>11.214115</td>\n",
       "      <td>2.951534</td>\n",
       "      <td>13.387989</td>\n",
       "      <td>12.018397</td>\n",
       "    </tr>\n",
       "    <tr>\n",
       "      <th>std</th>\n",
       "      <td>9.703149</td>\n",
       "      <td>1.932809</td>\n",
       "      <td>6.446519</td>\n",
       "      <td>217.357022</td>\n",
       "    </tr>\n",
       "    <tr>\n",
       "      <th>min</th>\n",
       "      <td>-22.100000</td>\n",
       "      <td>0.000000</td>\n",
       "      <td>0.000000</td>\n",
       "      <td>0.000000</td>\n",
       "    </tr>\n",
       "    <tr>\n",
       "      <th>25%</th>\n",
       "      <td>6.000000</td>\n",
       "      <td>1.000000</td>\n",
       "      <td>9.000000</td>\n",
       "      <td>0.762116</td>\n",
       "    </tr>\n",
       "    <tr>\n",
       "      <th>50%</th>\n",
       "      <td>8.500000</td>\n",
       "      <td>3.000000</td>\n",
       "      <td>14.000000</td>\n",
       "      <td>1.331326</td>\n",
       "    </tr>\n",
       "    <tr>\n",
       "      <th>75%</th>\n",
       "      <td>12.500000</td>\n",
       "      <td>5.000000</td>\n",
       "      <td>19.000000</td>\n",
       "      <td>2.402226</td>\n",
       "    </tr>\n",
       "    <tr>\n",
       "      <th>max</th>\n",
       "      <td>256.000000</td>\n",
       "      <td>6.000000</td>\n",
       "      <td>23.000000</td>\n",
       "      <td>4923.837280</td>\n",
       "    </tr>\n",
       "  </tbody>\n",
       "</table>\n",
       "</div>"
      ],
      "text/plain": [
       "        fare_amount   day_of_week   pickup_time      distance\n",
       "count  38233.000000  38233.000000  38233.000000  38233.000000\n",
       "mean      11.214115      2.951534     13.387989     12.018397\n",
       "std        9.703149      1.932809      6.446519    217.357022\n",
       "min      -22.100000      0.000000      0.000000      0.000000\n",
       "25%        6.000000      1.000000      9.000000      0.762116\n",
       "50%        8.500000      3.000000     14.000000      1.331326\n",
       "75%       12.500000      5.000000     19.000000      2.402226\n",
       "max      256.000000      6.000000     23.000000   4923.837280"
      ]
     },
     "execution_count": 14,
     "metadata": {},
     "output_type": "execute_result"
    }
   ],
   "source": [
    "df.describe()"
   ]
  },
  {
   "cell_type": "code",
   "execution_count": 15,
   "id": "9f0aec92",
   "metadata": {},
   "outputs": [
    {
     "data": {
      "text/plain": [
       "(23298, 4)"
      ]
     },
     "execution_count": 15,
     "metadata": {},
     "output_type": "execute_result"
    }
   ],
   "source": [
    "#here we filter the dataset by eliminating negative fare amounts and placing limits on fares and distance \n",
    "df= df[(df['distance'] > 1.0) & (df['distance'] < 10.0)]\n",
    "df = df[(df['fare_amount'] > 0.0) & (df['fare_amount'] < 50.0)]\n",
    "df.shape"
   ]
  },
  {
   "cell_type": "code",
   "execution_count": 16,
   "id": "a814782e",
   "metadata": {},
   "outputs": [
    {
     "data": {
      "text/plain": [
       "fare_amount    1.000000\n",
       "distance       0.851913\n",
       "day_of_week   -0.003570\n",
       "pickup_time   -0.023085\n",
       "Name: fare_amount, dtype: float64"
      ]
     },
     "execution_count": 16,
     "metadata": {},
     "output_type": "execute_result"
    }
   ],
   "source": [
    "#run correlation to see what variables affect the fare amount\n",
    "corr_matrix = df.corr()\n",
    "corr_matrix['fare_amount'].sort_values(ascending=False)"
   ]
  },
  {
   "cell_type": "code",
   "execution_count": 17,
   "id": "fa83ff0f",
   "metadata": {},
   "outputs": [],
   "source": [
    "#building training model using regression alogorithms to see what the most accurate results are and from there use a cross-validation to further prove the relationship, we do \n",
    "#by starting off with spliting the data for training and testing \n",
    "\n",
    "from sklearn.model_selection import train_test_split\n",
    "\n",
    "x = df.drop(['fare_amount'], axis=1)\n",
    "y = df['fare_amount']\n",
    "x_train, x_test, y_train, y_test = train_test_split(x, y, test_size=0.2, random_state=0)"
   ]
  },
  {
   "cell_type": "code",
   "execution_count": 18,
   "id": "0ec02a73",
   "metadata": {},
   "outputs": [
    {
     "data": {
      "text/plain": [
       "LinearRegression()"
      ]
     },
     "execution_count": 18,
     "metadata": {},
     "output_type": "execute_result"
    }
   ],
   "source": [
    "#training a linear-regression model\n",
    "\n",
    "from sklearn.linear_model import LinearRegression\n",
    "\n",
    "model = LinearRegression()\n",
    "model.fit(x_train, y_train)"
   ]
  },
  {
   "cell_type": "code",
   "execution_count": 19,
   "id": "f51beb39",
   "metadata": {},
   "outputs": [
    {
     "data": {
      "text/plain": [
       "0.7203915544390822"
      ]
     },
     "execution_count": 19,
     "metadata": {},
     "output_type": "execute_result"
    }
   ],
   "source": [
    "#checking the models r-squared score\n",
    "model.score(x_test, y_test)"
   ]
  },
  {
   "cell_type": "code",
   "execution_count": 20,
   "id": "9bcdc015",
   "metadata": {},
   "outputs": [
    {
     "data": {
      "text/plain": [
       "0.7258845061910318"
      ]
     },
     "execution_count": 20,
     "metadata": {},
     "output_type": "execute_result"
    }
   ],
   "source": [
    "#now we check the model against a 5-fold cross-validation\n",
    "from sklearn.model_selection import cross_val_score\n",
    "\n",
    "cross_val_score(model, x, y, cv=5).mean()"
   ]
  },
  {
   "cell_type": "code",
   "execution_count": 21,
   "id": "393ab8e5",
   "metadata": {},
   "outputs": [
    {
     "data": {
      "text/plain": [
       "2.417690543316923"
      ]
     },
     "execution_count": 21,
     "metadata": {},
     "output_type": "execute_result"
    }
   ],
   "source": [
    "#now we measure the model's mean absolute error (MAE).\n",
    "\n",
    "from sklearn.metrics import mean_absolute_error\n",
    "\n",
    "mean_absolute_error(y_test, model.predict(x_test))"
   ]
  },
  {
   "cell_type": "code",
   "execution_count": 22,
   "id": "0f665769",
   "metadata": {},
   "outputs": [
    {
     "data": {
      "text/plain": [
       "0.706157807448991"
      ]
     },
     "execution_count": 22,
     "metadata": {},
     "output_type": "execute_result"
    }
   ],
   "source": [
    "#training a random forest regressor using the dataset and check accuracy\n",
    "\n",
    "from sklearn.ensemble import RandomForestRegressor\n",
    "\n",
    "model = RandomForestRegressor(random_state=0)\n",
    "model.fit(x_train, y_train)\n",
    "\n",
    "cross_val_score(model, x, y, cv=5).mean()"
   ]
  },
  {
   "cell_type": "code",
   "execution_count": 24,
   "id": "049210dc",
   "metadata": {},
   "outputs": [
    {
     "data": {
      "text/plain": [
       "0.750496262408626"
      ]
     },
     "execution_count": 24,
     "metadata": {},
     "output_type": "execute_result"
    }
   ],
   "source": [
    "#training the last model using GradientBoostingRegressor\n",
    "\n",
    "from sklearn.ensemble import GradientBoostingRegressor\n",
    "\n",
    "model = GradientBoostingRegressor(random_state=0)\n",
    "model.fit(x_train, y_train)\n",
    "\n",
    "cross_val_score(model, x, y, cv=5).mean()"
   ]
  },
  {
   "cell_type": "code",
   "execution_count": 25,
   "id": "a2469313",
   "metadata": {},
   "outputs": [
    {
     "name": "stderr",
     "output_type": "stream",
     "text": [
      "/opt/anaconda3/envs/data_analysis/lib/python3.7/site-packages/sklearn/base.py:451: UserWarning: X does not have valid feature names, but GradientBoostingRegressor was fitted with feature names\n",
      "  \"X does not have valid feature names, but\"\n"
     ]
    },
    {
     "data": {
      "text/plain": [
       "array([11.33633088])"
      ]
     },
     "execution_count": 25,
     "metadata": {},
     "output_type": "execute_result"
    }
   ],
   "source": [
    "#now to determine out of the models which has the highest cross-validated coefficient of determination\n",
    "#using the trained model to make predictions, we will see the cost to hail a taxi in a 2-mile trip '2.0' at 5pm '17' on friday'4'.\n",
    "\n",
    "model.predict([[4, 17, 2.0]])"
   ]
  },
  {
   "cell_type": "code",
   "execution_count": 26,
   "id": "0687a84e",
   "metadata": {},
   "outputs": [
    {
     "name": "stderr",
     "output_type": "stream",
     "text": [
      "/opt/anaconda3/envs/data_analysis/lib/python3.7/site-packages/sklearn/base.py:451: UserWarning: X does not have valid feature names, but GradientBoostingRegressor was fitted with feature names\n",
      "  \"X does not have valid feature names, but\"\n"
     ]
    },
    {
     "data": {
      "text/plain": [
       "array([10.79265934])"
      ]
     },
     "execution_count": 26,
     "metadata": {},
     "output_type": "execute_result"
    }
   ],
   "source": [
    "#lets try predicting the amount for another 2 mile trip at 5pm on saturday\n",
    "model.predict([[5, 17, 2.0]])"
   ]
  },
  {
   "cell_type": "code",
   "execution_count": null,
   "id": "a45a481e",
   "metadata": {},
   "outputs": [],
   "source": []
  }
 ],
 "metadata": {
  "kernelspec": {
   "display_name": "Python 3 (ipykernel)",
   "language": "python",
   "name": "python3"
  },
  "language_info": {
   "codemirror_mode": {
    "name": "ipython",
    "version": 3
   },
   "file_extension": ".py",
   "mimetype": "text/x-python",
   "name": "python",
   "nbconvert_exporter": "python",
   "pygments_lexer": "ipython3",
   "version": "3.7.16"
  }
 },
 "nbformat": 4,
 "nbformat_minor": 5
}
